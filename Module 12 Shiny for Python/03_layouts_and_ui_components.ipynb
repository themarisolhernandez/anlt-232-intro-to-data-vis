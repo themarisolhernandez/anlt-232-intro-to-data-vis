{
 "cells": [
  {
   "cell_type": "markdown",
   "id": "c20ffade-6035-4cad-92d3-df5843f9e7a0",
   "metadata": {},
   "source": [
    "<p style=\"display: flex; align-items: center;\">\n",
    "    <img src=\"https://posit.co/wp-content/uploads/2023/04/shiny4python-2-blog.jpg\" alt=\"Shiny for Python Logo\" width=\"150\" style=\"margin-right: 10px;\">\n",
    "    <span style=\"font-size: 32px; font-weight: bold;\">📍 Layouts and UI Components</span>\n",
    "</p>"
   ]
  },
  {
   "cell_type": "markdown",
   "id": "9c218ead-1101-45db-ac61-52ab832987df",
   "metadata": {},
   "source": [
    "## Introduction\n",
    "In this lesson, we'll focus on the **layout system and UI components** in Shiny for Python. You'll learn how to organize and structure the user interface (UI) of your Shiny apps effectively. By utilizing various UI widgets such as sliders, dropdowns, and checkboxes, you'll be able to create interactive applications that allow users to input data and see the results in a dynamic way. Additionally, we'll explore how to build well-structured layouts using Shiny’s powerful layout functions."
   ]
  },
  {
   "cell_type": "markdown",
   "id": "d999c002-75a2-4917-9d9f-324a74b452ba",
   "metadata": {},
   "source": [
    "## Shiny’s Layout System\n",
    "The layout of a Shiny app defines how the UI components are organized on the page. In Shiny, we have several layout functions that help us arrange different parts of the app.\n",
    "\n",
    "### 1. `fluid_page()`\n",
    "The `fluid_page()` function is one of the most common layout systems in Shiny. It creates a flexible layout that adjusts to the width of the screen, making it responsive to different devices (like desktop, tablet, or mobile).\n",
    "\n",
    "Let’s revisit the example from [./1.1_first_app](https://github.com/themarisolhernandez/anlt-232-intro-to-data-vis/tree/master/Module%2012%20Shiny%20for%20Python/shiny_projects/1.1_first_app):\n",
    "\n",
    "```python\n",
    "# Define the UI for the app\n",
    "app_ui = ui.page_fluid(\n",
    "    ui.input_slider(\"num\", \"Choose a number:\", 1, 100, 50),  # Input: a slider\n",
    "    ui.output_text(\"txt\"),  # Output: a text box that will display the result\n",
    ")\n",
    "```\n",
    "\n",
    "In the example above, we use `fluid_page()` to wrap the UI components (`input_slider` and `output_text`). This ensures the layout will automatically adjust to the screen size."
   ]
  },
  {
   "cell_type": "markdown",
   "id": "75bc3c00-bd0b-4b56-9f9e-2ee11746739c",
   "metadata": {},
   "source": [
    "### 2. `layout_sidebar()`\n",
    "The `layout_sidebar()` function is another common layout used for apps that need a sidebar for navigation or additional controls. This layout allows you to define a sidebar on the left side of the app and a main content area on the right.\n",
    "\n",
    "For example:\n",
    "\n",
    "```python\n",
    "# Define the UI for the app\n",
    "app_ui = ui.page_fluid(\n",
    "    ui.layout_sidebar(\n",
    "        ui.sidebar(\n",
    "            ui.input_slider(\"num\", \"Choose a number:\", 1, 100, 50),  # Input: a slider in the sidebar panel\n",
    "            title=\"Sidebar Example\",\n",
    "        ),\n",
    "        ui.output_text(\"txt\"),  # Output: a text box that will display the result to the main panel\n",
    "    ),\n",
    ")\n",
    "```\n",
    "\n",
    "Here, the sidebar contains a slider input, while the main panel displays the text output. This layout is useful for organizing the app into distinct sections, improving the user experience."
   ]
  },
  {
   "cell_type": "markdown",
   "id": "ed7c171a-23e8-44a2-aef3-8efb80401290",
   "metadata": {},
   "source": [
    "### 3. `page_navbar()`\n",
    "The `page_navbar()` layout allows you to build multi-tabbed applications where each tab can hold different UI components. It's commonly used for applications with multiple sections.\n",
    "\n",
    "For example:\n",
    "\n",
    "```python\n",
    "# Define the UI for the app\n",
    "app_ui = ui.page_fluid(\n",
    "    ui.page_navbar(\n",
    "        ui.nav_panel(\"Tab 1\", ui.input_slider(\"num\", \"Choose a number:\", 1, 100, 50)),  # Input tab\n",
    "        ui.nav_panel(\"Tab 2\", ui.output_text(\"txt\")),  # Output tab\n",
    "        title=\"Navbar Example\",\n",
    "    )\n",
    ")\n",
    "```\n",
    "\n",
    "This layout creates a navigation bar at the top, and users can switch between tabs to see different content."
   ]
  },
  {
   "cell_type": "markdown",
   "id": "e3538b97-830b-452f-a46e-e0fe51436f85",
   "metadata": {},
   "source": [
    "## UI Widgets: Sliders, Select Inputs, Checkboxes, and More\n",
    "Shiny provides a variety of UI widgets that allow users to interact with the app by providing inputs.\n",
    "\n",
    "### 1. Sliders (`input_slider`)\n",
    "**Sliders** are one of the most common UI elements used to select a numerical value from a range. You can specify the minimum and maximum values, as well as the default starting value.\n",
    "\n",
    "In each of the examples above we used `input_slider`,\n",
    "\n",
    "```python\n",
    "ui.input_slider(\"num\", \"Choose a number:\", 1, 100, 50)\n",
    "```\n",
    "\n",
    "In this case, the slider allows the user to choose a number between 1 and 100, with a default value of 50."
   ]
  },
  {
   "cell_type": "markdown",
   "id": "396c4d90-d259-4710-a920-db34c8f74cc5",
   "metadata": {},
   "source": [
    "### 2. Select Inputs (`input_select`)\n",
    "**Select inputs** allow users to choose a value from a dropdown menu. It's useful when there are a limited set of options.\n",
    "\n",
    "For example:\n",
    "\n",
    "```python\n",
    "ui.input_select(\"category\", \"Choose a category:\", choices=[\"A\", \"B\", \"C\"])\n",
    "```\n",
    "\n",
    "Here, the user can select one of the three categories: `\"A\"`, `\"B\"`, or `\"C\"`."
   ]
  },
  {
   "cell_type": "markdown",
   "id": "3d46c927-3fec-4e09-8ebb-845506e11e10",
   "metadata": {},
   "source": [
    "### 3. Checkboxes (`input_checkbox`)\n",
    "**Checkboxes** allow users to make a binary choice, like `\"Yes\"` or `\"No\"`. It's commonly used for boolean selections.\n",
    "\n",
    "For example:\n",
    "\n",
    "```python\n",
    "ui.input_checkbox(\"agree\", \"I agree to the terms and conditions\")\n",
    "```\n",
    "\n",
    "In this example, the checkbox gives the user the option to agree to the terms and conditions."
   ]
  },
  {
   "cell_type": "markdown",
   "id": "7ed3b947-2281-44bf-aabd-03162b9f6347",
   "metadata": {},
   "source": [
    "### 4. Text Inputs (`input_text`)\n",
    "**Text inputs** allow the user to enter a freeform value, such as their name or a search term.\n",
    "\n",
    "For example:\n",
    "\n",
    "```python\n",
    "ui.input_text(\"name\", \"Enter your name:\")\n",
    "```\n",
    "\n",
    "This creates a text box where the user can type their name."
   ]
  },
  {
   "cell_type": "markdown",
   "id": "e64a5b26-4c4a-49f3-b86d-f390ae1d7e2f",
   "metadata": {},
   "source": [
    "## Grouping and Organizing Inputs\n",
    "When building larger applications, it’s important to organize the UI components effectively. Shiny offers several ways to group and organize inputs for better clarity and usability.\n",
    "\n",
    "### Using Containers\n",
    "Shiny provides containers to further control the layout and spacing of elements. These include `row()` and `column()` functions.\n",
    "\n",
    "For example:\n",
    "\n",
    "```python\n",
    "app_ui = ui.page_fluid(\n",
    "    ui.row(\n",
    "        ui.column(6, \n",
    "            ui.input_slider(\"num\", \"Choose a number:\", 1, 100, 50),\n",
    "            ui.output_text(\"slider_output\")\n",
    "        ),\n",
    "        ui.column(6, \n",
    "            ui.input_select(\"category\", \"Choose a category:\", options=[\"A\", \"B\", \"C\"]),\n",
    "            ui.output_text(\"select_output\")\n",
    "        )\n",
    "    )\n",
    ")\n",
    "```\n",
    "\n",
    "`ui.row` creates a row in the layout. `ui.column(6, ...)` divides the row into two columns, each taking up 6 units (half of the row, given 12 units total). This setup will create a simple layout with two input elements (slider and select) side by side in a row."
   ]
  },
  {
   "cell_type": "markdown",
   "id": "a4265572-1b28-4d52-8f72-627cff2cdb30",
   "metadata": {},
   "source": [
    "## Example: Building a UI with Multiple Controls\n",
    "Let's build a UI that contains several interactive elements, including a slider, a dropdown, and a checkbox. These inputs will control the display of a dynamic plot based on user choices.\n",
    "\n",
    "```python\n",
    "import matplotlib.pyplot as plt\n",
    "import numpy as np\n",
    "from shiny import App, ui, render\n",
    "\n",
    "# Define the UI\n",
    "app_ui = ui.page_fluid(\n",
    "    ui.row(\n",
    "        ui.column(4, ui.input_slider(\"num\", \"Choose a scaling factor:\", 1, 100, 50)),\n",
    "        ui.column(4, ui.input_select(\"color\", \"Choose a color:\", choices=[\"red\", \"green\", \"blue\", \"orange\"])),\n",
    "        ui.column(4, ui.input_checkbox(\"show_grid\", \"Show Grid\"))\n",
    "    ),\n",
    "    ui.output_plot(\"plot\")\n",
    ")\n",
    "\n",
    "# Define the server logic\n",
    "def server(input, output, session):\n",
    "    @output()\n",
    "    @render.plot\n",
    "    def plot():\n",
    "        x = np.linspace(-10, 10, 100)\n",
    "        y = np.sin(x) * input.num()\n",
    "\n",
    "        # Set the color based on the input_select choice\n",
    "        color = input.color()\n",
    "        plt.plot(x, y, color=color)\n",
    "\n",
    "        # Display grid if checkbox is checked\n",
    "        if input.show_grid():\n",
    "            plt.grid(True)\n",
    "\n",
    "        # Set title and labels\n",
    "        plt.title(f\"Plot of Sine Wave with Scaling Factor {input.num()}\")\n",
    "        plt.xlabel(\"X\")\n",
    "        plt.ylabel(\"Y\")\n",
    "\n",
    "        # Set fixed axis limits to keep them constant\n",
    "        plt.xlim(-10, 10)  # Fixed x-axis limits\n",
    "        plt.ylim(-100, 100)  # Fixed y-axis limits (based on the scaling factor)\n",
    "        \n",
    "        return plt.gcf()\n",
    "\n",
    "# Create the app\n",
    "app = App(ui=app_ui, server=server)\n",
    "```\n",
    "\n",
    "In this example:\n",
    "\n",
    "- The user can adjust the scaling factor of the sine wave using the **slider**.\n",
    "\n",
    "- The **dropdown** allows the user to choose a color for the line.\n",
    "\n",
    "- The **checkbox** controls whether the grid appears in the plot.\n",
    "\n",
    "This demonstrates how to combine different types of inputs and outputs in a Shiny app."
   ]
  },
  {
   "cell_type": "markdown",
   "id": "e2c46124-c1e5-4bf7-98a8-a4c900eabfda",
   "metadata": {},
   "source": [
    "## Summary\n",
    "### Key Takeaways\n",
    "- **Layouts in Shin**: `fluid_page()`, `layout_sidebar()`, and `page_navbar()` provide flexible ways to structure your Shiny app’s UI.\n",
    "\n",
    "- **UI Widgets**: Shiny offers various input types such as sliders, select inputs, checkboxes, and text inputs to collect user data.\n",
    "\n",
    "- **Grouping Inputs**: UI components can be grouped and organized using panels, containers, and columns to improve the user experience.\n",
    "\n",
    "- **Dynamic UI**: Multiple controls can be combined to create an interactive, dynamic app with complex behavior.\n",
    "\n",
    "### Lesson Preview\n",
    "In the next lesson, we’ll dive into a **Case Study – Interactive Dashboard with Shiny**. We’ll integrate everything learned in the previous lessons to build a comprehensive, interactive dashboard that uses reactive programming to visualize and analyze data. This case study will give you hands-on experience in designing a complete Shiny application."
   ]
  }
 ],
 "metadata": {
  "kernelspec": {
   "display_name": "Python 3 (ipykernel)",
   "language": "python",
   "name": "python3"
  },
  "language_info": {
   "codemirror_mode": {
    "name": "ipython",
    "version": 3
   },
   "file_extension": ".py",
   "mimetype": "text/x-python",
   "name": "python",
   "nbconvert_exporter": "python",
   "pygments_lexer": "ipython3",
   "version": "3.12.8"
  }
 },
 "nbformat": 4,
 "nbformat_minor": 5
}
