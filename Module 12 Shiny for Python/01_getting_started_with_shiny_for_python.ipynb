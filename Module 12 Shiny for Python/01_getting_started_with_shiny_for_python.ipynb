{
 "cells": [
  {
   "cell_type": "markdown",
   "id": "c9f231e7-d7f5-478f-8f38-ee726300995c",
   "metadata": {},
   "source": [
    "<p style=\"display: flex; align-items: center;\">\n",
    "    <img src=\"https://posit.co/wp-content/uploads/2023/04/shiny4python-2-blog.jpg\" alt=\"Shiny for Python Logo\" width=\"150\" style=\"margin-right: 10px;\">\n",
    "    <span style=\"font-size: 32px; font-weight: bold;\">📍 Getting Started with Shiny for Python</span>\n",
    "</p>"
   ]
  },
  {
   "cell_type": "markdown",
   "id": "b45ebf89-9e3f-4f87-8785-2da1f0f455fc",
   "metadata": {},
   "source": [
    "## Introduction\n",
    "In this notebook, we'll explore **[Shiny for Python](https://shiny.posit.co/py/)**, a powerful framework for building interactive web applications directly in Python. Inspired by **[R’s Shiny](https://shiny.posit.co/r/getstarted/shiny-basics/lesson1/)**, the Python version offers seamless tools that allows developers and data scientists to create fully reactive dashboards and applications with clean, readable, and familiar syntax.\n",
    "\n",
    "We’ll start by understanding the structure of a Shiny app, build our first example, and compare Shiny with other tools such as Dash. We’ll also demonstrate how to run Shiny apps as standalone `.py` files."
   ]
  },
  {
   "cell_type": "markdown",
   "id": "13fd1a5c-e605-4a5c-be83-77b5f66267ee",
   "metadata": {},
   "source": [
    "<div style=\"display: flex; justify-content: center; gap: 20px;\">\n",
    "  <div style=\"margin-right: 10px;\">\n",
    "    <img src=\"https://shiny.posit.co/py/images/map-light.jpg\" alt=\"Map Light\" width=\"325\"><br>\n",
    "    <div style=\"font-size: 12px;\">Run queries on an SQL database and <a href=\"https://gallery.shinyapps.io/template-map-distance/?_gl=1*17se271*_ga*NTEzOTU5NjYyLjE3NDIyMTg5NzU.*_ga_2C0WZ1JHG0*MTc0Mzg4MjA0MC4yLjEuMTc0Mzg4MzY0MS4wLjAuMA..\">view the results</a> in a data grid, <a href=\"https://shiny.posit.co/py/templates/map-distance/\">also available as a template</a>.</div>\n",
    "  </div>\n",
    "  <div style=\"margin-right: 10px;\">\n",
    "    <img src=\"https://shiny.posit.co/py/images/screen24.png\" alt=\"Screen 24\" width=\"325\"><br>\n",
    "    <div style=\"font-size: 12px;\">Shiny is great for creating interactive visualizations, like this <a href=\"https://shinylive.io/py/app/#orbit-simulation\">three-body problem simulator</a>.</div>\n",
    "  </div>\n",
    "  <div>\n",
    "    <img src=\"https://shiny.posit.co/py/images/screen22.png\" alt=\"Screen 22\" width=\"325\"><br>\n",
    "    <div style=\"font-size: 12px;\">Mix Markdown prose with inputs and outputs to create <a href=\"https://shinylive.io/py/app/#regularization\">interactive explainers</a>.</div>\n",
    "  </div>\n",
    "</div>"
   ]
  },
  {
   "cell_type": "markdown",
   "id": "e5be1388-10a5-422f-881c-43486340b011",
   "metadata": {},
   "source": [
    "## What is Shiny?\n",
    "**Shiny for Python** is a modern web application framework developed by [Posit](https://en.wikipedia.org/wiki/Posit_PBC) (formerly *RStudio*) that allows data scientists and analysts to create rich, interactive web applications using <u>only Python code</u>—without needing to learn HTML, CSS, or JavaScript.\n",
    "\n",
    "### Key features of Shiny for Python\n",
    "- **Reactive programming**: Built-in reactivity eliminates the need for manual callback functions.\n",
    "\n",
    "- **Tight integration with Python data tools**: Easily use `pandas`, `plotly`, `matplotlib`, etc.\n",
    "\n",
    "- **Simple, readable syntax**: Focus on UI layout and reactive logic without web boilerplate.\n",
    "\n",
    "- **Browser-based interface**: Apps run in a browser, making deployment easy."
   ]
  },
  {
   "cell_type": "markdown",
   "id": "29c1e2ea-e1fc-4559-910d-0b05b6981a73",
   "metadata": {},
   "source": [
    "## Comparison: Shiny vs Dash\n",
    "Since we explored **[Plotly Dash](https://dash.plotly.com/)** in earlier modules, it’s helpful to compare it with **Shiny for Python**, since both are popular frameworks for building web-based data applications in Python. While they share the same end goal—enabling users to build interactive, data-driven apps—their underlying paradigms and developer experience differ in important ways.\n",
    "\n",
    "| Feature | Shiny for Python | Plotly Dash |\n",
    "|----------|----------|----------|\n",
    "| **Developer** | [Posit](https://en.wikipedia.org/wiki/Posit_PBC) (formerly *RStudio*) | [Plotly](https://plotly.com/) | \n",
    "| **Programming Model** | Declarative + Reactive | Callback-based (imperative) | \n",
    "| **Ease of Use** | Minimal boilerplate, reactive expressions | More verbose, especially with callbacks | \n",
    "| **UI Layout** | Built-in layout system | Customizable with HTML components | \n",
    "| **Learning Curve** | Lower (especially for R Shiny users) | Moderate | \n",
    "| **Integration** | Good with `matplotlib`, `pandas`, `plotly` | Strong with Plotly ecosystem | \n",
    "| **Deployment** | Shiny Server, shinylive.io, etc. | Dash Enterprise, Heroku, etc. | \n",
    "\n",
    "💡 *In summary, **Shiny** simplifies interactive app development by abstracting much of the reactive logic, making it easier to create dashboards with fewer lines of code.* \n",
    "\n",
    "*__Dash__, on the other hand, provides more granular control via explicit callbacks and a component-based architecture, which can be advantageous for complex applications.*"
   ]
  },
  {
   "cell_type": "markdown",
   "id": "6d211b25-9024-47f2-95aa-f671a8200f5d",
   "metadata": {},
   "source": [
    "## Installation and Setup\n",
    "To get started with **Shiny for Python**, we need to install the necessary packages and set up our development environment. \n",
    "\n",
    "### Install via `pip` or `conda`\n",
    "Shiny is available via `pip`, so you can install it directly from PyPI. The main package you'll need is `shiny`. Install it using the following command,"
   ]
  },
  {
   "cell_type": "code",
   "execution_count": 27,
   "id": "ccf67178-e1e7-4761-9301-2ec85854bcc0",
   "metadata": {
    "scrolled": true
   },
   "outputs": [],
   "source": [
    "!pip install shiny"
   ]
  },
  {
   "cell_type": "markdown",
   "id": "44e831e8-a4d1-4c5a-b887-b08f7a7fe337",
   "metadata": {},
   "source": [
    "💡 *Note: If you're using `conda`, you can also install Shiny using `conda` (if available in the conda-forge channel):*\n",
    "\n",
    "```bash\n",
    "conda install -c conda-forge shiny\n",
    "```\n",
    "\n",
    "### Verify the Installation\n",
    "After installation, you can verify that Shiny was installed successfully by checking the version of Shiny:"
   ]
  },
  {
   "cell_type": "code",
   "execution_count": 28,
   "id": "01c7246f-896a-433c-b816-49937b956d75",
   "metadata": {},
   "outputs": [
    {
     "name": "stdout",
     "output_type": "stream",
     "text": [
      "1.3.0\n"
     ]
    }
   ],
   "source": [
    "!python -c \"import shiny; print(shiny.__version__)\""
   ]
  },
  {
   "cell_type": "markdown",
   "id": "599708a0-ac66-48a7-bd9f-49493b720714",
   "metadata": {},
   "source": [
    "This command should return the version number of the installed Shiny package (e.g., `1.3.0`).\n",
    "\n",
    "With these steps, your environment will be set up to build and run Shiny apps in Python."
   ]
  },
  {
   "cell_type": "markdown",
   "id": "287f758c-9ef6-4311-a87d-ff3ead768b64",
   "metadata": {},
   "source": [
    "## Anatomy of a Shiny App\n",
    "We'll dive into the anatomy of a Shiny app and look at the basic components. A typical Shiny app in Python has two main components:\n",
    "\n",
    "### 1. `ui`: The User Interface\n",
    "The `ui` (User Interface) defines the layout and the elements that are visible to the user. This includes the **inputs** (like sliders, buttons, and dropdowns) and the **outputs** (like plots, tables, or text) that the user interacts with. Essentially, the `ui` is what the user sees and interacts with in the app.\n",
    "\n",
    "For example,\n",
    "\n",
    "```python\n",
    "from shiny import ui\n",
    "\n",
    "app_ui = ui.page_fluid(\n",
    "    ui.input_slider(\"num\", \"Choose a number:\", 1, 100, 50),  # Input: a slider\n",
    "    ui.output_text(\"txt\")  # Output: a text box that will display the result\n",
    ")\n",
    "```\n",
    "\n",
    "#### Explanation of Code\n",
    "- `ui.input_slider(\"num\", \"Choose a number:\", 1, 100, 50)`: Creates a **slider** where the user can choose a number between 1 and 100, starting at 50.\n",
    "  \n",
    "- `ui.output_text(\"txt\")`: Defines an area where the **output** (the result of the interaction) will be displayed as text.\n",
    "\n",
    "### 2. `server`: The Server Function\n",
    "The `server` function is where the logic and reactivity of the app are defined. It listens to user inputs and generates outputs based on those inputs. Shiny apps are **reactive**, meaning the server automatically updates outputs when inputs change, without requiring the user to refresh the page.\n",
    "\n",
    "Here’s how the server function works in our example:\n",
    "\n",
    "```python\n",
    "from shiny import render\n",
    "\n",
    "def server(input, output, session):\n",
    "    @output\n",
    "    @render.text\n",
    "    def txt():\n",
    "        return f\"You selected: {input.num()}\"\n",
    "```\n",
    "\n",
    "#### Explanation of Code\n",
    "- `input.num()`: accesses the value selected by the user using the slider (i.e., the number the user chooses).\n",
    "  \n",
    "- `@output`: marks the function `txt()` as an output for the app.\n",
    "\n",
    "- `@render.text`: tells Shiny that the output should be displayed as text.\n",
    "\n",
    "- `txt()`: returns the selected number as part of the string, dynamically updating whenever the slider value changes.\n",
    "\n",
    "In this case, when the user moves the slider, the text will update to show the selected number, like `\"You selected: 50\"`.\n",
    "\n",
    "### Putting It All Together\n",
    "In summary, these two components—`ui` and `server`—are essential to building Shiny apps. The `ui` defines what the user interacts with, and the `server` defines how the app responds to those interactions. Here is what it looks like all together,\n",
    "\n",
    "```python\n",
    "from shiny import App, ui, render\n",
    "\n",
    "app_ui = ui.page_fluid(\n",
    "    ui.input_slider(\"num\", \"Choose a number:\", 1, 100, 50),  # Input: a slider\n",
    "    ui.output_text(\"txt\")  # Output: a text box that will display the result\n",
    ")\n",
    "\n",
    "def server(input, output, session):\n",
    "    @output\n",
    "    @render.text\n",
    "    def txt():\n",
    "        return f\"You selected: {input.num()}\"\n",
    "\n",
    "app = App(app_ui, server)\n",
    "```"
   ]
  },
  {
   "cell_type": "markdown",
   "id": "aba7fff4-f35f-4d32-86a0-46f0d787b687",
   "metadata": {},
   "source": [
    "## Running Shiny Apps\n",
    "To run a Shiny app from the command line, use the `shiny run` command. This command takes a single argument, the path to the app’s entry point. For example, if your app’s entry point is `app.py` in the directory `./app_dir`, you can run it like this:\n",
    "\n",
    "```bash\n",
    "shiny run --reload --launch-browser app_dir/app.py\n",
    "```\n",
    "\n",
    "This should start your app and also automatically launch a web browser. If not, visit your app at http://localhost:8000 or (http://127.0.0.1:8000).\n",
    "\n",
    "<div style=\"text-align: center;\">\n",
    "    <img src=\"images/1.1_first_app.png\" alt=\"First App\" width=\"800\">\n",
    "</div>\n",
    "\n",
    "The `--reload` flag means that file changes in the current directory tree will cause the Python process to restart and the browser to reload. You can also update, save changes to `app.py`, and then wait a moment for the changes to appear in the browser.\n",
    "\n",
    "Now have a project that you can run in your terminal 🙂 \n",
    "\n",
    "💡 *Note: This is ideal for local development, rapid prototyping, and eventual deployment.*\n",
    "\n",
    "💡 *Optional: Save the following project, [./1.2_second_app](https://github.com/themarisolhernandez/anlt-232-intro-to-data-vis/tree/master/Module%2012%20Shiny%20for%20Python/shiny_projects/1.2_second_app), and run it from the terminal. This app updates a histogram based on the number of bins selected with a slider.* \n",
    "\n",
    "<div style=\"text-align: center;\">\n",
    "    <img src=\"images/1.2_second_app.png\" alt=\"Second App\" width=\"800\">\n",
    "</div>"
   ]
  },
  {
   "cell_type": "markdown",
   "id": "6ceed849-a11c-4e02-975a-5a55799e101f",
   "metadata": {},
   "source": [
    "## Summary\n",
    "### Key Takeaways\n",
    "- **Shiny for Python** is a modern, reactive web framework ideal for building dashboards and analytical apps.\n",
    "\n",
    "- It has a **simpler syntax** and **lower barrier to entry** compared to callback-based tools like Dash.\n",
    "\n",
    "- Every app has a **UI** and a **server** component.\n",
    "\n",
    "- You can run Shiny apps as standalone `.py` files with the `shiny run` command.\n",
    "\n",
    "- The **reactive model** simplifies how inputs automatically update outputs—no need for explicit callbacks.\n",
    "\n",
    "### Next Lesson Preview\n",
    "In the next notebook, we’ll dive into **reactivity and inputs** in more depth. You’ll learn how to use sliders, dropdowns, numeric inputs, and how to build more dynamic responses using reactive expressions and computed outputs.\n",
    "\n",
    "We’ll also introduce `reactive.Calc` to manage dependencies efficiently and avoid unnecessary recomputation."
   ]
  }
 ],
 "metadata": {
  "kernelspec": {
   "display_name": "Python 3 (ipykernel)",
   "language": "python",
   "name": "python3"
  },
  "language_info": {
   "codemirror_mode": {
    "name": "ipython",
    "version": 3
   },
   "file_extension": ".py",
   "mimetype": "text/x-python",
   "name": "python",
   "nbconvert_exporter": "python",
   "pygments_lexer": "ipython3",
   "version": "3.12.8"
  }
 },
 "nbformat": 4,
 "nbformat_minor": 5
}
