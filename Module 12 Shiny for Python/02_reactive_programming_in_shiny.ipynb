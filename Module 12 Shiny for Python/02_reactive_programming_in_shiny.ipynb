{
 "cells": [
  {
   "cell_type": "markdown",
   "id": "4001365d-6be5-4c8f-935c-085eb27c6af6",
   "metadata": {},
   "source": [
    "<p style=\"display: flex; align-items: center;\">\n",
    "    <img src=\"https://posit.co/wp-content/uploads/2023/04/shiny4python-2-blog.jpg\" alt=\"Shiny for Python Logo\" width=\"150\" style=\"margin-right: 10px;\">\n",
    "    <span style=\"font-size: 32px; font-weight: bold;\">📍 Reactive Programming in Shiny</span>\n",
    "</p>"
   ]
  },
  {
   "cell_type": "markdown",
   "id": "b6818ef5-777e-45c0-8711-888ef46c9f7f",
   "metadata": {},
   "source": [
    "## Introduction\n",
    "In this notebook, we'll explore the core concept of **reactivity** in Shiny for Python, which is the key to making Shiny apps interactive and dynamic. **Reactivity** allows the app to automatically update outputs based on changes to inputs, making it much more efficient and user-friendly than traditional static web applications.\n",
    "\n",
    "Shiny's reactivity model is based on the concept of **reactive expressions**—pieces of code that are automatically re-executed when their inputs change. We'll explore how inputs and outputs work together, dive into specific reactive functions, and learn to handle conditional logic using `req()` and reactive expressions."
   ]
  },
  {
   "cell_type": "markdown",
   "id": "22f708f8-827e-4e9c-998a-7361602f6742",
   "metadata": {},
   "source": [
    "## Understanding Reactivity in Shiny\n",
    "**Reactivity** in Shiny means that when a user interacts with the app (for example, changing a slider value), the app automatically responds by recalculating and updating the relevant outputs. This is made possible by Shiny’s reactivity system, which keeps track of dependencies between inputs and outputs.\n",
    "\n",
    "In a reactive system, **inputs and outputs** are interconnected. When an input changes (e.g., the user selects a new number from a slider), Shiny triggers a re-evaluation of any reactive expressions that depend on that input. This ensures that the displayed output reflects the latest data.\n",
    "\n",
    "Unlike traditional programming where you have to manually update the UI or call update functions, Shiny does this automatically behind the scenes.\n",
    "\n",
    "### Example of Reactive Workflow\n",
    "- **Input**: The user selects a value from a slider or enters text in a box.\n",
    "\n",
    "- **Server**: The server function contains reactive expressions that listen to the inputs and compute values based on them.\n",
    "\n",
    "- **Output**: The output is updated in real-time to reflect the changes in the input.\n",
    "\n",
    "This continuous loop of **input $\\rightarrow$ reactivity $\\rightarrow$ output** is the foundation of Shiny’s interactivity."
   ]
  },
  {
   "cell_type": "markdown",
   "id": "7b0d4dad-9a2c-437c-99cc-8718b86e4711",
   "metadata": {},
   "source": [
    "## How `input` vs `output` Work Together\n",
    "In a Shiny app, inputs and outputs communicate with each other through reactive expressions. To understand this relationship more clearly, let’s revisit [./1.1_first_app](http://github.com/themarisolhernandez/anlt-232-intro-to-data-vis/tree/master/Module%2012%20Shiny%20for%20Python/shiny_projects/1.1_first_app),\n",
    "\n",
    "```python\n",
    "from shiny import App, ui, render\n",
    "\n",
    "app_ui = ui.page_fluid(\n",
    "    ui.input_slider(\"num\", \"Choose a number:\", 1, 100, 50),  # Input: a slider\n",
    "    ui.output_text(\"txt\")  # Output: a text box that will display the result\n",
    ")\n",
    "\n",
    "def server(input, output, session):\n",
    "    @output\n",
    "    @render.text\n",
    "    def txt():\n",
    "        return f\"You selected: {input.num()}\"\n",
    "\n",
    "app = App(app_ui, server)\n",
    "```\n",
    "\n",
    "`input:` This is where the user provides data or makes selections, such as choosing a number from a slider, entering text in a box, or selecting a value from a dropdown menu. It represents the user's input to the app.\n",
    "\n",
    "For instance, in our example:\n",
    "\n",
    "```python\n",
    "ui.input_slider(\"num\", \"Choose a number:\", 1, 100, 50),  # Input: a slider\n",
    "```\n",
    "\n",
    "The slider input allows the user to choose a number, and this number is stored as the value of `input.num()`.\n",
    "\n",
    "`output`: This is where the results or feedback are displayed based on the user input. It could show a plot, table, text, or any other form of output generated from the server-side logic. The output reflects what has been processed or computed from the user’s interaction with the app.\n",
    "\n",
    "In our example:\n",
    "\n",
    "```python\n",
    "ui.output_text(\"txt\")  # Output: a text box that will display the result\n",
    "```\n",
    "\n",
    "The text output (`output.txt()`) will dynamically update to show the selected number from the slider.\n",
    "\n",
    "The key point is that **the input affects the output**—when the slider is adjusted, the output updates in real-time without needing the user to refresh the page or make any other manual adjustments."
   ]
  },
  {
   "cell_type": "markdown",
   "id": "15cc8bb9-8cff-4db1-a85d-cfe135e5f39e",
   "metadata": {},
   "source": [
    "## Reactive Functions in Shiny\n",
    "Shiny provides several key functions to handle reactivity, allowing us to define reactive expressions, render outputs, and manage state. Let's explore the most commonly used reactive functions:\n",
    "\n",
    "### 1. `reactive.calc`\n",
    "The `reactive.calc` function defines a **reactive expression** — a computation that depends on reactive inputs and automatically updates when those inputs change.\n",
    "\n",
    "For example:\n",
    "\n",
    "```python\n",
    "@reactive.calc\n",
    "def calc_square():\n",
    "    return input.num() ** 2\n",
    "```\n",
    "\n",
    "In this case, `calc_square()` is a reactive expression that computes the square of the number selected by the user. Every time `input.num()` changes (i.e., the slider value changes), the `calc_square()` expression will be recomputed.\n",
    "\n",
    "Using `@reactive.calc` offers several advantages over a general helper function:\n",
    "\n",
    "- **Modularity**: It separates computational logic from rendering logic, making the code easier to read and maintain, and reusable across multiple parts of the app.\n",
    "  \n",
    "- **Efficiency**: Reactive expressions are **cached** — if the same result is needed in multiple places, it's computed once and reused, rather than recalculated.\n",
    "\n",
    "- **Automatic updates**: The expression re-executes automatically when any of its reactive dependencies change.\n",
    "\n",
    "This makes `reactive.calc` especially useful when the same computation is needed in more than one place or when maintaining clean, modular code is a priority."
   ]
  },
  {
   "cell_type": "markdown",
   "id": "f36a183e-88c0-4557-9c65-fdf45b531fd5",
   "metadata": {},
   "source": [
    "## 2. `render.text`\n",
    "The `render.text` function renders text output. It's useful for displaying dynamic, user-friendly feedback based on input values.\n",
    "\n",
    "For example:\n",
    "\n",
    "```python\n",
    "@output\n",
    "@render.text\n",
    "def square_output():\n",
    "    return f\"The square of the number is: {calc_square()}.\"\n",
    "```\n",
    "\n",
    "This function dynamically generates and displays the text message based on the output of the `calc_square()` reactive expression."
   ]
  },
  {
   "cell_type": "markdown",
   "id": "310cae85-9de5-421e-a6c4-9ee256035f3e",
   "metadata": {},
   "source": [
    "## 3. `render.plot`\n",
    "The `render.plot` function is used to create and render visualizations in a Shiny app. It listens for changes in user inputs and automatically re-renders the plot whenever a dependent input changes. This ensures that your plot remains up to date without any manual refreshing or intervention.\n",
    "\n",
    "Let’s revisit the example from [./1.2_second_app](https://github.com/themarisolhernandez/anlt-232-intro-to-data-vis/tree/master/Module%2012%20Shiny%20for%20Python/shiny_projects/1.2_second_app):\n",
    "\n",
    "```python\n",
    "@output\n",
    "@render.plot\n",
    "def hist_plot():\n",
    "    np.random.seed(123)\n",
    "    data = np.random.randn(500)\n",
    "    plt.hist(data, bins=input.bins())\n",
    "    plt.title(\"Histogram of Random Data\")\n",
    "    plt.xlabel(\"Value\")\n",
    "    plt.ylabel(\"Frequency\")\n",
    "```\n",
    "\n",
    "Here's what's happening here:\n",
    "- `@output`: This decorator marks the function as an output that should be exposed to the UI.\n",
    "  \n",
    "- `@render.plot`: Specifies that the output will be a plot (using `matplotlib` in this case). Shiny will watch for changes in any reactive values used inside this function and re-run it when needed.\n",
    "\n",
    "- `input.bins()`: This is a reactive input (from a UI slider, for example) that controls how many bins the histogram will have. Every time the user adjusts the number of bins in the slider, the histogram automatically updates.\n",
    "\n",
    "In summary, the user controls the number of bins, and the output plot updates in real-time to reflect that selection."
   ]
  },
  {
   "cell_type": "markdown",
   "id": "2d2fcbb8-7c99-4310-924f-41c597d69db2",
   "metadata": {},
   "source": [
    "## Conditional Logic with `req()` and Reactive Expressions\n",
    "In some cases, you may need to ensure that certain conditions are met before executing a reactive expression. This is where the `req()` function comes in handy. `req()` is used to validate inputs and prevent errors by checking whether a condition is true before continuing execution.\n",
    "\n",
    "For example:\n",
    "\n",
    "```python\n",
    "@reactive.calc\n",
    "def validate_input():\n",
    "    try:\n",
    "        req(input.divisor() > 0)  # Validate the input\n",
    "        return input.divisor()\n",
    "    except:\n",
    "        raise ValueError(\"Undefined: The divisor must be greater than zero.\")\n",
    "```\n",
    "\n",
    "In this case, the reactive expression checks if the input number is greater than zero. If the condition is not met, it triggers an exception and prevents further processing.\n",
    "\n",
    "This function is useful when you need to enforce certain constraints, ensuring that the inputs are valid before triggering the reactive logic."
   ]
  },
  {
   "cell_type": "markdown",
   "id": "70d14844-1c10-420a-b706-14d13b59e084",
   "metadata": {},
   "source": [
    "## Summary\n",
    "### Key Takeaways\n",
    "- **Reactivity** in Shiny allows the app to automatically update outputs when inputs change, creating a dynamic user experience.\n",
    "\n",
    "- **Inputs and outputs** work together to create a seamless flow of data from the user to the app and back.\n",
    "\n",
    "- `reactive.calc`, `render.text`, and `render.plot`, functions allow us to define reactive behavior and display dynamic outputs.\n",
    "\n",
    "- `req()` provides a way to enforce conditions before executing a reactive expression, ensuring valid inputs.\n",
    "\n",
    "### Lesson Preview\n",
    "In the next lesson, **Layouts and UI Components**, we'll explore how to organize and structure the user interface (UI) of Shiny apps. We’ll dive into how to use containers, organize UI elements for a more interactive experience, and introduce additional UI components like dropdowns, sliders, and text inputs."
   ]
  }
 ],
 "metadata": {
  "kernelspec": {
   "display_name": "Python 3 (ipykernel)",
   "language": "python",
   "name": "python3"
  },
  "language_info": {
   "codemirror_mode": {
    "name": "ipython",
    "version": 3
   },
   "file_extension": ".py",
   "mimetype": "text/x-python",
   "name": "python",
   "nbconvert_exporter": "python",
   "pygments_lexer": "ipython3",
   "version": "3.12.8"
  }
 },
 "nbformat": 4,
 "nbformat_minor": 5
}
