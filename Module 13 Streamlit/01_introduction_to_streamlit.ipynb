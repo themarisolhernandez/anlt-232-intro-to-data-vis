{
 "cells": [
  {
   "cell_type": "markdown",
   "id": "d111feb3-4d24-4c02-87e5-fa9f2e55990c",
   "metadata": {},
   "source": [
    "<p style=\"display: flex; align-items: center;\">\n",
    "    <img src=\"https://streamlit.io/images/brand/streamlit-logo-primary-colormark-darktext.svg\" alt=\"Streamlit Logo\" width=\"150\" style=\"margin-right: 10px;\">\n",
    "    <span style=\"font-size: 32px; font-weight: bold;\">📍 Introduction to Streamlit</span>\n",
    "</p>"
   ]
  },
  {
   "cell_type": "markdown",
   "id": "82be5aac-610a-4533-99d0-d03534f139a0",
   "metadata": {},
   "source": [
    "## Introduction\n",
    "In this notebook, we’ll introduce **[Streamlit](https://streamlit.io/)**, another powerful and user-friendly Python framework for building interactive data applications. We'll look at how **Streamlit** compares to other app-building frameworks like Shiny and Dash, walk through the setup process, and create a simple Streamlit app to understand its core building blocks.\n",
    "\n",
    "<div style=\"text-align: center;\">\n",
    "    <img src=\"images/1.1_example.png\" alt=\"Example\" width=\"800\">\n",
    "</div>"
   ]
  },
  {
   "cell_type": "markdown",
   "id": "b194ba70-5f79-40f8-b810-018a02d8e2d7",
   "metadata": {},
   "source": [
    "## What is Streamlit?\n",
    "Streamlit is a Python library that turns scripts into interactive web apps—quickly and easily. It's designed for data scientists and analysts who want to build data-driven applications using only Python, without needing to write HTML, CSS, or JavaScript.\n",
    "\n",
    "Streamlit apps are:\n",
    "- **Lightweight**: Built using just Python scripts\n",
    "\n",
    "- **Reactive**: Automatically rerun from top to bottom when an input changes\n",
    "\n",
    "- **Rapid to develop**: Minimal boilerplate and no callback definitions required"
   ]
  },
  {
   "cell_type": "markdown",
   "id": "17e8fb00-421d-4e02-993a-4445547dc440",
   "metadata": {},
   "source": [
    "## Comparison: Streamlit vs Shiny vs Dash\n",
    "The table below offers a high-level comparison of Streamlit with the two other popular Python frameworks we've explored:\n",
    "\n",
    "| Feature | Streamlit | Shiny for Python | Dash |\n",
    "|----------|----------|----------|----------|\n",
    "| **Primary Audience** | Data scientists | Data scientists | Developers + data scientists |\n",
    "| **Language** | Python | Python (also R) | Python (also R via dashR) |\n",
    "| **UI Definition** | Python script | Declarative UI with `ui.*` syntax | Declarative in Python |\n",
    "| **Reactivity Model** | Top-down rerun on input change | Fine-grained reactive programming | Callback decorators with Inputs/Outputs |\n",
    "| **HTML/CSS/JS Required** | No | No | Optional (can enhance with custom code) |\n",
    "| **Layout System** | Implicit (via Python flow + layout funcs) | Explicit (`page_fluid()`, `layout_sidebar()`) | Explicit (e.g., `html.Div`, `dcc.Graph`) |\n",
    "| **Learning Curve** | Low | Moderate | Moderate to High |"
   ]
  },
  {
   "cell_type": "markdown",
   "id": "3d88805c-eb44-433a-b776-ef0c704a53c6",
   "metadata": {},
   "source": [
    "## Installing and Launching a Streamlit App\n",
    "You can install Streamlit using `pip`:"
   ]
  },
  {
   "cell_type": "code",
   "execution_count": 2,
   "id": "01839604-a6a0-4b0f-89ba-f82d3cf3ecc4",
   "metadata": {},
   "outputs": [],
   "source": [
    "!pip install streamlit"
   ]
  },
  {
   "cell_type": "markdown",
   "id": "eb461d04-21c8-4018-9e62-13a2256e4eb6",
   "metadata": {},
   "source": [
    "💡 *Note: If you're using `conda`, you can also install Streamlit using `conda` (if available in the conda-forge channel):*\n",
    "\n",
    "```bash\n",
    "conda install -c conda-forge streamlit\n",
    "```\n",
    "\n",
    "### Verify the Installation\n",
    "After installation, you can verify that Streamlit was installed successfully by checking the version of Streamlit:"
   ]
  },
  {
   "cell_type": "code",
   "execution_count": 3,
   "id": "e8c233cb-59c4-441e-9508-cff5efbe8fda",
   "metadata": {},
   "outputs": [
    {
     "name": "stdout",
     "output_type": "stream",
     "text": [
      "1.44.1\n"
     ]
    }
   ],
   "source": [
    "!python -c \"import streamlit; print(streamlit.__version__)\""
   ]
  },
  {
   "cell_type": "markdown",
   "id": "4906a468-70de-42c5-8f24-46dbc60fdb18",
   "metadata": {},
   "source": [
    "Another way to verify installation is to run the following command from the terminal:\n",
    "\n",
    "```bash\n",
    "streamlit hello\n",
    "```\n",
    "\n",
    "This command launches the **Streamlit Hello app**, a built-in interactive tour that introduces Streamlit’s core features.\n",
    "\n",
    "<div style=\"text-align: center;\">\n",
    "    <img src=\"images/1.2_hello_app.png\" alt=\"Hello App\" width=\"800\">\n",
    "</div>"
   ]
  },
  {
   "cell_type": "markdown",
   "id": "a9ae1905-fdea-4f75-8ed0-b52503dcab92",
   "metadata": {},
   "source": [
    "To run your own Streamlit app from a `.py` file, assuming your app’s entry point is `app.py` is in the directory `./app_dir`:\n",
    "\n",
    "```bash\n",
    "streamlit run app_dir/your_script.py\n",
    "```\n",
    "\n",
    "Streamlit opens a local web server and displays the app in your browser."
   ]
  },
  {
   "cell_type": "markdown",
   "id": "3c1d5505-080c-4414-89b2-bd926962b00d",
   "metadata": {},
   "source": [
    "## Anatomy of a Streamlit Script\n",
    "Unlike Shiny or Dash, Streamlit apps are **just Python scripts**. There is no separate server or layout file.\n",
    "\n",
    "Here’s the basic structure of a Streamlit script:\n",
    "\n",
    "```python\n",
    "# ./1.1_first_app\n",
    "import streamlit as st\n",
    "import pandas as pd\n",
    "\n",
    "st.title(\"My First Streamlit App\")\n",
    "\n",
    "st.write(\"Here's a simple dataframe:\")\n",
    "df = pd.DataFrame({\n",
    "    'a': [1, 2, 3],\n",
    "    'b': [10, 20, 30]\n",
    "})\n",
    "st.dataframe(df)\n",
    "```\n",
    "\n",
    "### How It Works\n",
    "- `st.title()` and `st.write()` are used to add content to the page.\n",
    "  \n",
    "- Streamlit reads the script top-to-bottom every time a user changes an input.\n",
    "\n",
    "- There’s no need to define UI and server separately—everything is handled inline.\n",
    "\n",
    "To run this app:\n",
    "\n",
    "```bash\n",
    "streamlit run app_dir/1.1_first_app.py\n",
    "```\n",
    "\n",
    "<div style=\"text-align: center;\">\n",
    "    <img src=\"images/1.3_first_app.png\" alt=\"First App\" width=\"800\">\n",
    "</div>"
   ]
  },
  {
   "cell_type": "markdown",
   "id": "0b339236-30b8-49e8-b72c-0bddacc17443",
   "metadata": {},
   "source": [
    "## First App: Displaying Text, DataFrames, and Charts\n",
    "Let’s walk through a simple app that displays several key UI elements.\n",
    "\n",
    "```python\n",
    "# ./1.2_second_app\n",
    "import streamlit as st\n",
    "import pandas as pd\n",
    "import matplotlib.pyplot as plt\n",
    "\n",
    "st.title(\"Welcome to Streamlit\")\n",
    "\n",
    "st.write(\"This is a sample app to display data and charts.\")\n",
    "\n",
    "# Create a sample dataframe\n",
    "df = pd.DataFrame({\n",
    "    'Category': ['A', 'B', 'C', 'D'],\n",
    "    'Value': [100, 150, 200, 80]\n",
    "})\n",
    "\n",
    "# Display dataframe\n",
    "st.subheader(\"Sample Data\")\n",
    "st.dataframe(df)\n",
    "\n",
    "# Create and display a chart\n",
    "st.subheader(\"Bar Chart\")\n",
    "fig, ax = plt.subplots()\n",
    "ax.bar(df['Category'], df['Value'], color=\"skyblue\")\n",
    "st.pyplot(fig)\n",
    "\n",
    "# Add interactive text input\n",
    "name = st.text_input(\"What's your name?\", \"Streamlit user\")\n",
    "st.write(f\"Hello, {name}!\")\n",
    "```\n",
    "\n",
    "### What You’ll See:\n",
    "- Text and subheadings\n",
    "  \n",
    "- A styled interactive DataFrame\n",
    "\n",
    "- A bar chart using `matplotlib`\n",
    "\n",
    "- A text input field with real-time updates\n",
    "\n",
    "<div style=\"text-align: center;\">\n",
    "    <img src=\"images/1.4_second_app.png\" alt=\"Second App\" width=\"800\">\n",
    "</div>"
   ]
  },
  {
   "cell_type": "markdown",
   "id": "3a4e1b65-e947-4930-9dae-be5d427ebaa4",
   "metadata": {},
   "source": [
    "## Hands-On: Hello Streamlit + Quick App Tour\n",
    "Let’s try two things:\n",
    "\n",
    "### 1. Explore the built-in Hello app\n",
    "Let's revisit the **Streamlit Hello app** by running the following command in the terminal,\n",
    "\n",
    "```bash\n",
    "streamlit hello\n",
    "```\n",
    "\n",
    "This opens an app with tabs showcasing widgets, charts, media, and layout tools. It’s a great way to quickly see what's possible.\n",
    "\n",
    "### 2. Build a Minimal App from Scratch\n",
    "Now attempt to build your first Streamlit app. Create a file named `hello_streamlit.py` and add:\n",
    "\n",
    "```python\n",
    "# hello_streamlit.py\n",
    "import streamlit as st\n",
    "\n",
    "st.title(\"Hello Streamlit!\")\n",
    "st.write(\"This is your first custom Streamlit app.\")\n",
    "```\n",
    "\n",
    "Then run it:\n",
    "\n",
    "```bash\n",
    "streamlit run hello_streamlit.py\n",
    "```"
   ]
  },
  {
   "cell_type": "markdown",
   "id": "a2b30f40-cc15-45ed-a654-27bdc352f007",
   "metadata": {},
   "source": [
    "## Summary\n",
    "### Key Takeaways\n",
    "- **Streamlit** is a lightweight framework for building interactive data apps using only Python.\n",
    "\n",
    "- Unlike Shiny and Dash, Streamlit apps are single Python scripts that run top-down.\n",
    "\n",
    "- Streamlit apps are **reactive by design**—they automatically rerun when inputs change.\n",
    "\n",
    "- Common components include **titles, text, dataframes, charts, and user inputs**.\n",
    "\n",
    "- You can launch apps with `streamlit run <file.py>` and explore the built-in **Hello app** for a feature tour.\n",
    "\n",
    "### Lesson Preview\n",
    "In the next notebook, we'll dive deeper into **interactive widgets and user input**. You'll learn how to use sliders, dropdowns, and text fields to create dynamic user interfaces and respond to input in real time."
   ]
  }
 ],
 "metadata": {
  "kernelspec": {
   "display_name": "Python 3 (ipykernel)",
   "language": "python",
   "name": "python3"
  },
  "language_info": {
   "codemirror_mode": {
    "name": "ipython",
    "version": 3
   },
   "file_extension": ".py",
   "mimetype": "text/x-python",
   "name": "python",
   "nbconvert_exporter": "python",
   "pygments_lexer": "ipython3",
   "version": "3.12.8"
  }
 },
 "nbformat": 4,
 "nbformat_minor": 5
}
